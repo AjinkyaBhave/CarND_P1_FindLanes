{
 "cells": [
  {
   "cell_type": "markdown",
   "metadata": {},
   "source": [
    "# Self-Driving Car Engineer Nanodegree\n",
    "\n",
    "\n",
    "## Project: **Finding Lane Lines on the Road** \n",
    "***\n",
    "In this project, you will use the tools you learned about in the lesson to identify lane lines on the road.  You can develop your pipeline on a series of individual images, and later apply the result to a video stream (really just a series of images). Check out the video clip \"raw-lines-example.mp4\" (also contained in this repository) to see what the output should look like after using the helper functions below. \n",
    "\n",
    "Once you have a result that looks roughly like \"raw-lines-example.mp4\", you'll need to get creative and try to average and/or extrapolate the line segments you've detected to map out the full extent of the lane lines.  You can see an example of the result you're going for in the video \"P1_example.mp4\".  Ultimately, you would like to draw just one line for the left side of the lane, and one for the right.\n",
    "\n",
    "In addition to implementing code, there is a brief writeup to complete. The writeup should be completed in a separate file, which can be either a markdown file or a pdf document. There is a [write up template](https://github.com/udacity/CarND-LaneLines-P1/blob/master/writeup_template.md) that can be used to guide the writing process. Completing both the code in the Ipython notebook and the writeup template will cover all of the [rubric points](https://review.udacity.com/#!/rubrics/322/view) for this project.\n",
    "\n",
    "---\n",
    "Let's have a look at our first image called 'test_images/solidWhiteRight.jpg'.  Run the 2 cells below (hit Shift-Enter or the \"play\" button above) to display the image.\n",
    "\n",
    "**Note: If, at any point, you encounter frozen display windows or other confounding issues, you can always start again with a clean slate by going to the \"Kernel\" menu above and selecting \"Restart & Clear Output\".**\n",
    "\n",
    "---"
   ]
  },
  {
   "cell_type": "markdown",
   "metadata": {},
   "source": [
    "**The tools you have are color selection, region of interest selection, grayscaling, Gaussian smoothing, Canny Edge Detection and Hough Tranform line detection.  You  are also free to explore and try other techniques that were not presented in the lesson.  Your goal is piece together a pipeline to detect the line segments in the image, then average/extrapolate them and draw them onto the image for display (as below).  Once you have a working pipeline, try it out on the video stream below.**\n",
    "\n",
    "---\n",
    "\n",
    "<figure>\n",
    " <img src=\"examples/line-segments-example.jpg\" width=\"380\" alt=\"Combined Image\" />\n",
    " <figcaption>\n",
    " <p></p> \n",
    " <p style=\"text-align: center;\"> Your output should look something like this (above) after detecting line segments using the helper functions below </p> \n",
    " </figcaption>\n",
    "</figure>\n",
    " <p></p> \n",
    "<figure>\n",
    " <img src=\"examples/laneLines_thirdPass.jpg\" width=\"380\" alt=\"Combined Image\" />\n",
    " <figcaption>\n",
    " <p></p> \n",
    " <p style=\"text-align: center;\"> Your goal is to connect/average/extrapolate line segments to get output like this</p> \n",
    " </figcaption>\n",
    "</figure>"
   ]
  },
  {
   "cell_type": "markdown",
   "metadata": {},
   "source": [
    "**Run the cell below to import some packages.  If you get an `import error` for a package you've already installed, try changing your kernel (select the Kernel menu above --> Change Kernel).  Still have problems?  Try relaunching Jupyter Notebook from the terminal prompt.  Also, see [this forum post](https://carnd-forums.udacity.com/cq/viewquestion.action?spaceKey=CAR&id=29496372&questionTitle=finding-lanes---import-cv2-fails-even-though-python-in-the-terminal-window-has-no-problem-with-import-cv2) for more troubleshooting tips.**  "
   ]
  },
  {
   "cell_type": "markdown",
   "metadata": {},
   "source": [
    "## Import Packages"
   ]
  },
  {
   "cell_type": "code",
   "execution_count": 2,
   "metadata": {
    "collapsed": true
   },
   "outputs": [],
   "source": [
    "#importing some useful packages\n",
    "import matplotlib.pyplot as plt\n",
    "import matplotlib.image as mpimg\n",
    "import numpy as np\n",
    "import cv2\n",
    "import os\n",
    "import math\n",
    "from scipy import misc\n",
    "%matplotlib inline\n",
    "\n",
    "# Import everything needed to edit/save/watch video clips\n",
    "from moviepy.editor import VideoFileClip\n",
    "from IPython.display import HTML"
   ]
  },
  {
   "cell_type": "markdown",
   "metadata": {},
   "source": [
    "## Ideas for Lane Detection Pipeline"
   ]
  },
  {
   "cell_type": "markdown",
   "metadata": {},
   "source": [
    "**Some OpenCV functions (beyond those introduced in the lesson) that might be useful for this project are:**\n",
    "\n",
    "`cv2.inRange()` for color selection  \n",
    "`cv2.fillPoly()` for regions selection  \n",
    "`cv2.line()` to draw lines on an image given endpoints  \n",
    "`cv2.addWeighted()` to coadd / overlay two images\n",
    "`cv2.cvtColor()` to grayscale or change color\n",
    "`cv2.imwrite()` to output images to file  \n",
    "`cv2.bitwise_and()` to apply a mask to an image\n",
    "\n",
    "**Check out the OpenCV documentation to learn about these and discover even more awesome functionality!**"
   ]
  },
  {
   "cell_type": "markdown",
   "metadata": {},
   "source": [
    "## Helper Functions"
   ]
  },
  {
   "cell_type": "markdown",
   "metadata": {},
   "source": [
    "Below are some helper functions to help get you started. They should look familiar from the lesson!"
   ]
  },
  {
   "cell_type": "code",
   "execution_count": 5,
   "metadata": {},
   "outputs": [],
   "source": [
    "# Parameters for all helper functions\n",
    "canny_low  = 50\n",
    "canny_high = 150\n",
    "kernel_size = 3\n",
    "rho = 2                 # distance resolution of the Hough grid [pixel]\n",
    "theta = np.pi/180       # angular resolution of the Hough grid [rad]\n",
    "threshold = 15          # minimum number of votes (intersections in Hough grid cell)\n",
    "min_line_len = 40       # minimum number of pixels making up a line\n",
    "max_line_gap = 20       # maximum gap in pixels between connectable line segments\n",
    "im_y = 540              # height of image\n",
    "im_x = 960              # width of image\n",
    "mask_y  = int(0.6*im_y) # upper y-coordinate of fillPoly trapezoidal mask region\n",
    "mask_x1 = int(0.48*im_x)# upper left x-coordinate of fillPoly trapezoidal mask region \n",
    "mask_x2 = int(0.54*im_x)# upper right x-coordinate of fillPoly trapezoidal mask region \n",
    "    \n",
    "left_x_prev  = []       # Holds last valid value of left_x array used in draw_lines()\n",
    "left_y_prev  = []       # Holds last valid value of left_y array used in draw_lines()\n",
    "right_x_prev = []       # Holds last valid value of right_x array used in draw_lines()\n",
    "right_y_prev = []       # Holds last valid value of right_y array used in draw_lines()\n",
    "img_dir = \"test_images/\"\n",
    "img_out_dir=\"test_images_out/\"\n",
    "\n",
    "def grayscale(img):\n",
    "    \"\"\"Applies the Grayscale transform\n",
    "    This will return an image with only one color channel\n",
    "    but NOTE: to see the returned image as grayscale\n",
    "    (assuming your grayscaled image is called 'gray')\n",
    "    you should call plt.imshow(gray, cmap='gray')\"\"\"\n",
    "    return cv2.cvtColor(img, cv2.COLOR_RGB2GRAY)\n",
    "    # Or use BGR2GRAY if you read an image with cv2.imread()\n",
    "    # return cv2.cvtColor(img, cv2.COLOR_BGR2GRAY)\n",
    "    \n",
    "def canny(img, low_threshold, high_threshold):\n",
    "    \"\"\"Applies the Canny transform\"\"\"\n",
    "    return cv2.Canny(img, low_threshold, high_threshold)\n",
    "\n",
    "def gaussian_blur(img, kernel_size):\n",
    "    \"\"\"Applies a Gaussian Noise kernel\"\"\"\n",
    "    return cv2.GaussianBlur(img, (kernel_size, kernel_size), 0)\n",
    "\n",
    "def region_of_interest(img, vertices):\n",
    "    \"\"\"\n",
    "    Applies an image mask.\n",
    "    \n",
    "    Only keeps the region of the image defined by the polygon\n",
    "    formed from `vertices`. The rest of the image is set to black.\n",
    "    \"\"\"\n",
    "    #defining a blank mask to start with\n",
    "    mask = np.zeros_like(img)   \n",
    "    \n",
    "    #defining a 3 channel or 1 channel color to fill the mask with depending on the input image\n",
    "    if len(img.shape) > 2:\n",
    "        channel_count = img.shape[2]  # i.e. 3 or 4 depending on your image\n",
    "        ignore_mask_color = (255,) * channel_count\n",
    "    else:\n",
    "        ignore_mask_color = 255\n",
    "        \n",
    "    #filling pixels inside the polygon defined by \"vertices\" with the fill color    \n",
    "    cv2.fillPoly(mask, vertices, ignore_mask_color)\n",
    "    \n",
    "    #returning the image only where mask pixels are nonzero\n",
    "    masked_image = cv2.bitwise_and(img, mask)\n",
    "    return masked_image\n",
    "\n",
    "\n",
    "def draw_lines(img, lines, color=[255, 0, 0], thickness=2):\n",
    "    \"\"\"\n",
    "    NOTE: this is the function you might want to use as a starting point once you want to \n",
    "    average/extrapolate the line segments you detect to map out the full\n",
    "    extent of the lane (going from the result shown in raw-lines-example.mp4\n",
    "    to that shown in P1_example.mp4).  \n",
    "    \n",
    "    Think about things like separating line segments by their \n",
    "    slope ((y2-y1)/(x2-x1)) to decide which segments are part of the left\n",
    "    line vs. the right line.  Then, you can average the position of each of \n",
    "    the lines and extrapolate to the top and bottom of the lane.\n",
    "    \n",
    "    This function draws `lines` with `color` and `thickness`.    \n",
    "    Lines are drawn on the image inplace (mutates the image).\n",
    "    If you want to make the lines semi-transparent, think about combining\n",
    "    this function with the weighted_img() function below\n",
    "    \"\"\"\n",
    "    global left_x_prev\n",
    "    global left_y_prev\n",
    "    global right_x_prev\n",
    "    global right_y_prev\n",
    "    global im_y\n",
    "    global im_x\n",
    "    global mask_y \n",
    "    left_slopes  = []\n",
    "    right_slopes = []\n",
    "    left_x  = [] \n",
    "    left_y  = []\n",
    "    right_x = []\n",
    "    right_y = []\n",
    "    sl_pt_lt = {}\n",
    "    sl_pt_rt = {}\n",
    "    left_slope  = 0\n",
    "    right_slope = 0\n",
    "        \n",
    "    for line in lines:\n",
    "        for x1,y1,x2,y2 in line:\n",
    "            slope = np.arctan((y2-y1)/(x2-x1))\n",
    "            slope = slope*180/np.pi\n",
    "            if slope < -15 and slope > -60:\n",
    "                sl_pt_lt[slope] = (x1,x2,y1,y2)\n",
    "                left_slopes.append(slope)\n",
    "            elif slope > 15 and slope < 60:\n",
    "                sl_pt_rt[slope] = (x1,x2,y1,y2)\n",
    "                right_slopes.append(slope)\n",
    "        \n",
    "    left_mean    = np.mean(left_slopes)\n",
    "    left_std     = np.std(left_slopes)\n",
    "    keys_remove  = [s for s in sl_pt_lt.keys() if np.abs(left_mean-s) > left_std]\n",
    "    for key_remove in keys_remove:\n",
    "        del sl_pt_lt[key_remove]\n",
    "    if len(list(sl_pt_lt.values())) == 0 :\n",
    "        left_x = left_x_prev.copy()\n",
    "        left_y = left_y_prev.copy()\n",
    "    else:\n",
    "        for val in list(sl_pt_lt.values()):\n",
    "            left_x.extend(val[0:2])\n",
    "            left_y.extend(val[2:])\n",
    "        left_x_prev = left_x.copy()\n",
    "        left_y_prev = left_y.copy()\n",
    "        \n",
    "    right_mean   = np.mean(right_slopes)\n",
    "    right_std    = np.std(right_slopes)\n",
    "    keys_remove  = [s for s in sl_pt_rt.keys() if np.abs(right_mean-s) > right_std]\n",
    "    for key_remove in keys_remove:\n",
    "        del sl_pt_rt[key_remove]\n",
    "    if len(list(sl_pt_rt.values())) == 0 :\n",
    "        right_x = right_x_prev.copy()\n",
    "        right_y = right_y_prev.copy()\n",
    "    else:\n",
    "        for val in list(sl_pt_rt.values()):\n",
    "            right_x.extend(val[0:2])\n",
    "            right_y.extend(val[2:])\n",
    "        right_x_prev = right_x.copy()\n",
    "        right_y_prev = right_y.copy()\n",
    "    \n",
    "    left_coeff = np.polyfit(left_x, left_y, 1)\n",
    "    pt_l1 =  (int((im_y-left_coeff[1])/left_coeff[0]),im_y) \n",
    "    pt_l2 =  (int((mask_y-left_coeff[1])/left_coeff[0]), mask_y) \n",
    "    cv2.line(img, pt_l1, pt_l2, color, thickness)\n",
    "    \n",
    "    right_coeff = np.polyfit(right_x, right_y,1)\n",
    "    pt_r1 =  (int((im_y-right_coeff[1])/right_coeff[0]),im_y) \n",
    "    pt_r2 =  (int((mask_y-right_coeff[1])/right_coeff[0]), mask_y) \n",
    "    cv2.line(img, pt_r1, pt_r2, color, thickness)\n",
    "    \n",
    "      \n",
    "def hough_lines(img, rho, theta, threshold, min_line_len, max_line_gap):\n",
    "    \"\"\"\n",
    "    `img` should be the output of a Canny transform.\n",
    "        \n",
    "    Returns an image with hough lines drawn.\n",
    "    \"\"\"\n",
    "    lines = cv2.HoughLinesP(img, rho, theta, threshold, np.array([]), minLineLength=min_line_len, maxLineGap=max_line_gap)\n",
    "    line_img = np.zeros((img.shape[0], img.shape[1], 3), dtype=np.uint8)\n",
    "    draw_lines(line_img, lines)\n",
    "    return line_img\n",
    "\n",
    "# Python 3 has support for cool math symbols.\n",
    "\n",
    "def weighted_img(img, initial_img, α=0.8, β=1., λ=0.):\n",
    "    \"\"\"\n",
    "    `img` is the output of the hough_lines(), An image with lines drawn on it.\n",
    "    Should be a blank image (all black) with lines drawn on it.\n",
    "    \n",
    "    `initial_img` should be the image before any processing.\n",
    "    \n",
    "    The result image is computed as follows:\n",
    "    \n",
    "    initial_img * α + img * β + λ\n",
    "    NOTE: initial_img and img must be the same shape!\n",
    "    \"\"\"\n",
    "    return cv2.addWeighted(initial_img, α, img, β, λ)\n",
    "\n",
    "# Function to implement single image processing pipeline\n",
    "def process_image(img):\n",
    "    # NOTE: The output you return should be a color image (3 channel) for processing video below\n",
    "    # you should return the final output (image where lines are drawn on lanes)\n",
    "    \n",
    "    global im_y\n",
    "    global im_x\n",
    "    global mask_y\n",
    "    global mask_x1\n",
    "    global mask_x2\n",
    "    \n",
    "    vertices = np.array([[(0,im_y),(mask_x1,mask_y), (mask_x2,mask_y), (im_x,im_y)]], dtype=np.int32)\n",
    "\n",
    "    img_gray = grayscale(img)\n",
    "    img_blur = gaussian_blur(img_gray, kernel_size)\n",
    "    img_edge = canny(img_blur, canny_low, canny_high)\n",
    "    img_crop = region_of_interest(img_edge, vertices)\n",
    "    img_line = hough_lines(img_crop,rho,theta,threshold,min_line_len,max_line_gap)\n",
    "    img_out  = weighted_img(img_line, img, α=0.6, β=1., λ=0.)\n",
    "    \n",
    "    cv2.line(img_out,(vertices[0][0][0],vertices[0][0][1]),(vertices[0][1][0],vertices[0][1][1]), (0,0,255),2)\n",
    "    cv2.line(img_out,(vertices[0][1][0],vertices[0][1][1]),(vertices[0][2][0],vertices[0][2][1]), (0,0,255),2)\n",
    "    cv2.line(img_out,(vertices[0][2][0],vertices[0][2][1]),(vertices[0][3][0],vertices[0][3][1]), (0,0,255),2)\n",
    "    cv2.line(img_out,(vertices[0][3][0],vertices[0][3][1]),(vertices[0][0][0],vertices[0][0][1]), (0,0,255),2)\n",
    "    \n",
    "    return img_out"
   ]
  },
  {
   "cell_type": "markdown",
   "metadata": {},
   "source": [
    "Build the pipeline and run your solution on all test_images. Make copies into the `test_images_output` directory, and you can use the images in your writeup report.\n",
    "\n",
    "Try tuning the various parameters, especially the low and high Canny thresholds as well as the Hough lines parameters."
   ]
  },
  {
   "cell_type": "markdown",
   "metadata": {},
   "source": [
    "## Test Images\n",
    "\n",
    "Build your pipeline to work on the images in the directory \"test_images\"  \n",
    "**You should make sure your pipeline works well on these images before you try the videos.**"
   ]
  },
  {
   "cell_type": "markdown",
   "metadata": {},
   "source": [
    "## Build a Lane Finding Pipeline\n",
    "\n"
   ]
  },
  {
   "cell_type": "code",
   "execution_count": 6,
   "metadata": {},
   "outputs": [
    {
     "data": {
      "image/png": "[encoded data removed]",
      "text/plain": [
       "<matplotlib.figure.Figure at 0xa6855f8>"
      ]
     },
     "metadata": {},
     "output_type": "display_data"
    }
   ],
   "source": [
    "# Build your pipeline that will draw lane lines on the test_images\n",
    "# then save them to the test_images directory.\n",
    "\n",
    "img_names = os.listdir(img_dir)\n",
    "for img_name in img_names:\n",
    "    img= mpimg.imread(img_dir+img_name)\n",
    "    img_out = process_image(img)\n",
    "    misc.imsave(img_out_dir+img_name, img_out)\n",
    "    plt.imshow(img_out)"
   ]
  },
  {
   "cell_type": "markdown",
   "metadata": {},
   "source": [
    "## Test on Videos\n",
    "\n",
    "You know what's cooler than drawing lanes over images? Drawing lanes over video!\n",
    "\n",
    "We can test our solution on two provided videos:\n",
    "\n",
    "`solidWhiteRight.mp4`\n",
    "\n",
    "`solidYellowLeft.mp4`\n",
    "\n",
    "**Note: if you get an `import error` when you run the next cell, try changing your kernel (select the Kernel menu above --> Change Kernel).  Still have problems?  Try relaunching Jupyter Notebook from the terminal prompt. Also, check out [this forum post](https://carnd-forums.udacity.com/questions/22677062/answers/22677109) for more troubleshooting tips.**\n",
    "\n",
    "**If you get an error that looks like this:**\n",
    "```\n",
    "NeedDownloadError: Need ffmpeg exe. \n",
    "You can download it by calling: \n",
    "imageio.plugins.ffmpeg.download()\n",
    "```\n",
    "**Follow the instructions in the error message and check out [this forum post](https://carnd-forums.udacity.com/display/CAR/questions/26218840/import-videofileclip-error) for more troubleshooting tips across operating systems.**"
   ]
  },
  {
   "cell_type": "code",
   "execution_count": 4,
   "metadata": {
    "collapsed": true
   },
   "outputs": [],
   "source": [
    "# Import everything needed to edit/save/watch video clips\n",
    "from moviepy.editor import VideoFileClip\n",
    "from IPython.display import HTML"
   ]
  },
  {
   "cell_type": "code",
   "execution_count": 12,
   "metadata": {
    "collapsed": true
   },
   "outputs": [],
   "source": [
    "## process_image() has been defined in the Helper Functions cell of this notebook for code reuse with testing images and video."
   ]
  },
  {
   "cell_type": "markdown",
   "metadata": {},
   "source": [
    "Let's try the one with the solid white lane on the right first ..."
   ]
  },
  {
   "cell_type": "code",
   "execution_count": 5,
   "metadata": {},
   "outputs": [
    {
     "name": "stdout",
     "output_type": "stream",
     "text": [
      "Before  9 8\n",
      "After   3 6\n",
      "[MoviePy] >>>> Building video test_videos_output/solidWhiteRight.mp4\n",
      "[MoviePy] Writing video test_videos_output/solidWhiteRight.mp4\n"
     ]
    },
    {
     "name": "stderr",
     "output_type": "stream",
     "text": [
      "\r",
      "  0%|                                                  | 0/222 [00:00<?, ?it/s]"
     ]
    },
    {
     "name": "stdout",
     "output_type": "stream",
     "text": [
      "Before  9 8\n",
      "After   3 6\n",
      "Before  7 9\n",
      "After   5 5\n",
      "Before  12 8\n",
      "After   7 5\n",
      "Before  6 8\n",
      "After   3 5\n",
      "Before  7 3\n",
      "After   4 2\n"
     ]
    },
    {
     "name": "stderr",
     "output_type": "stream",
     "text": [
      "\r",
      "  2%|▉                                         | 5/222 [00:00<00:04, 43.48it/s]"
     ]
    },
    {
     "name": "stdout",
     "output_type": "stream",
     "text": [
      "Before  6 4\n",
      "After   4 2\n",
      "Before  10 5\n",
      "After   5 4\n",
      "Before  7 2\n",
      "After   3 1\n",
      "Before  6 6\n",
      "After   2 4\n",
      "Before  7 6\n",
      "After   4 4\n",
      "Before  10 7\n",
      "After   6 6\n"
     ]
    },
    {
     "name": "stderr",
     "output_type": "stream",
     "text": [
      "\r",
      "  5%|██                                       | 11/222 [00:00<00:04, 45.35it/s]"
     ]
    },
    {
     "name": "stdout",
     "output_type": "stream",
     "text": [
      "Before  10 8\n",
      "After   7 5\n",
      "Before  9 8\n",
      "After   7 4\n",
      "Before  11 6\n",
      "After   8 2\n",
      "Before  9 6\n",
      "After   6 4\n",
      "Before  9 7\n",
      "After   7 4\n"
     ]
    },
    {
     "name": "stderr",
     "output_type": "stream",
     "text": [
      "\r",
      "  7%|██▉                                      | 16/222 [00:00<00:04, 46.65it/s]"
     ]
    },
    {
     "name": "stdout",
     "output_type": "stream",
     "text": [
      "Before  6 3\n",
      "After   4 2\n",
      "Before  8 3\n",
      "After   5 2\n",
      "Before  8 1\n",
      "After   5 1\n",
      "Before  7 3\n",
      "After   4 1\n",
      "Before  4 8\n",
      "After   2 3\n",
      "Before  7 9\n",
      "After   5 6\n"
     ]
    },
    {
     "name": "stderr",
     "output_type": "stream",
     "text": [
      "\r",
      " 10%|████                                     | 22/222 [00:00<00:04, 48.30it/s]"
     ]
    },
    {
     "name": "stdout",
     "output_type": "stream",
     "text": [
      "Before  7 9\n",
      "After   6 5\n",
      "Before  7 6\n",
      "After   5 3\n",
      "Before  10 7\n",
      "After   7 5\n",
      "Before  8 7\n",
      "After   5 5\n",
      "Before  5 8\n",
      "After   1 5\n",
      "Before  5 9\n",
      "After   3 6\n"
     ]
    },
    {
     "name": "stderr",
     "output_type": "stream",
     "text": [
      "\r",
      " 13%|█████▏                                   | 28/222 [00:00<00:03, 49.15it/s]"
     ]
    },
    {
     "name": "stdout",
     "output_type": "stream",
     "text": [
      "Before  9 4\n",
      "After   7 2\n",
      "Before  8 4\n",
      "After   6 2\n",
      "Before  5 2\n",
      "After   4 2\n",
      "Before  6 2\n",
      "After   3 2\n",
      "Before  7 3\n",
      "After   4 1\n",
      "Before  7 7\n",
      "After   3 4\n"
     ]
    },
    {
     "name": "stderr",
     "output_type": "stream",
     "text": [
      "\r",
      " 15%|██████▎                                  | 34/222 [00:00<00:03, 50.15it/s]"
     ]
    },
    {
     "name": "stdout",
     "output_type": "stream",
     "text": [
      "Before  6 7\n",
      "After   3 6\n",
      "Before  9 4\n",
      "After   7 3\n",
      "Before  9 6\n",
      "After   7 4\n",
      "Before  9 11\n",
      "After   5 8\n",
      "Before  6 8\n",
      "After   3 5\n",
      "Before  6 7\n",
      "After   4 3\n"
     ]
    },
    {
     "name": "stderr",
     "output_type": "stream",
     "text": [
      "\r",
      " 18%|███████▍                                 | 40/222 [00:00<00:03, 50.61it/s]"
     ]
    },
    {
     "name": "stdout",
     "output_type": "stream",
     "text": [
      "Before  9 4\n",
      "After   6 3\n",
      "Before  7 3\n",
      "After   4 2\n",
      "Before  8 3\n",
      "After   3 2\n",
      "Before  10 0\n",
      "After   7 0\n",
      "Before  7 4\n",
      "After   4 2\n"
     ]
    },
    {
     "name": "stderr",
     "output_type": "stream",
     "text": [
      "\r",
      " 20%|████████▎                                | 45/222 [00:00<00:03, 48.66it/s]"
     ]
    },
    {
     "name": "stdout",
     "output_type": "stream",
     "text": [
      "Before  9 5\n",
      "After   6 3\n",
      "Before  8 6\n",
      "After   6 5\n",
      "Before  6 6\n",
      "After   4 3\n",
      "Before  6 5\n",
      "After   2 2\n",
      "Before  5 6\n",
      "After   3 5\n"
     ]
    },
    {
     "name": "stderr",
     "output_type": "stream",
     "text": [
      "\r",
      " 23%|█████████▏                               | 50/222 [00:01<00:03, 47.24it/s]"
     ]
    },
    {
     "name": "stdout",
     "output_type": "stream",
     "text": [
      "Before  4 7\n",
      "After   2 5\n",
      "Before  7 6\n",
      "After   4 4\n",
      "Before  4 3\n",
      "After   2 2\n",
      "Before  7 3\n",
      "After   4 1\n",
      "Before  8 1\n",
      "After   6 1\n"
     ]
    },
    {
     "name": "stderr",
     "output_type": "stream",
     "text": [
      "\r",
      " 25%|██████████▏                              | 55/222 [00:01<00:03, 46.43it/s]"
     ]
    },
    {
     "name": "stdout",
     "output_type": "stream",
     "text": [
      "Before  10 0\n",
      "After   6 0\n",
      "Before  10 6\n",
      "After   5 3\n",
      "Before  9 5\n",
      "After   5 3\n",
      "Before  9 6\n",
      "After   4 3\n",
      "Before  9 5\n",
      "After   7 3\n"
     ]
    },
    {
     "name": "stderr",
     "output_type": "stream",
     "text": [
      "\r",
      " 27%|███████████                              | 60/222 [00:01<00:03, 46.01it/s]"
     ]
    },
    {
     "name": "stdout",
     "output_type": "stream",
     "text": [
      "Before  7 8\n",
      "After   4 6\n",
      "Before  7 7\n",
      "After   4 5\n",
      "Before  6 8\n",
      "After   4 4\n",
      "Before  7 7\n",
      "After   6 5\n",
      "Before  8 5\n",
      "After   4 3\n"
     ]
    },
    {
     "name": "stderr",
     "output_type": "stream",
     "text": [
      "\r",
      " 29%|████████████                             | 65/222 [00:01<00:03, 45.09it/s]"
     ]
    },
    {
     "name": "stdout",
     "output_type": "stream",
     "text": [
      "Before  7 5\n",
      "After   4 3\n",
      "Before  7 2\n",
      "After   5 2\n",
      "Before  9 2\n",
      "After   5 1\n",
      "Before  5 8\n",
      "After   3 4\n",
      "Before  5 6\n",
      "After   3 4\n"
     ]
    },
    {
     "name": "stderr",
     "output_type": "stream",
     "text": [
      "\r",
      " 32%|████████████▉                            | 70/222 [00:01<00:03, 45.32it/s]"
     ]
    },
    {
     "name": "stdout",
     "output_type": "stream",
     "text": [
      "Before  4 6\n",
      "After   2 4\n",
      "Before  6 5\n",
      "After   3 2\n",
      "Before  12 5\n",
      "After   7 1\n",
      "Before  6 7\n",
      "After   3 4\n",
      "Before  8 9\n",
      "After   5 5\n"
     ]
    },
    {
     "name": "stderr",
     "output_type": "stream",
     "text": [
      "\r",
      " 34%|█████████████▊                           | 75/222 [00:01<00:03, 44.75it/s]"
     ]
    },
    {
     "name": "stdout",
     "output_type": "stream",
     "text": [
      "Before  8 6\n",
      "After   6 4\n",
      "Before  7 3\n",
      "After   5 2\n",
      "Before  9 4\n",
      "After   5 3\n",
      "Before  8 2\n",
      "After   6 2\n",
      "Before  7 3\n",
      "After   4 2\n"
     ]
    },
    {
     "name": "stderr",
     "output_type": "stream",
     "text": [
      "\r",
      " 36%|██████████████▊                          | 80/222 [00:01<00:03, 45.08it/s]"
     ]
    },
    {
     "name": "stdout",
     "output_type": "stream",
     "text": [
      "Before  6 3\n",
      "After   3 2\n",
      "Before  8 5\n",
      "After   4 3\n",
      "Before  10 5\n",
      "After   6 3\n",
      "Before  8 5\n",
      "After   5 2\n",
      "Before  5 5\n",
      "After   4 2\n"
     ]
    },
    {
     "name": "stderr",
     "output_type": "stream",
     "text": [
      "\r",
      " 38%|███████████████▋                         | 85/222 [00:01<00:03, 45.56it/s]"
     ]
    },
    {
     "name": "stdout",
     "output_type": "stream",
     "text": [
      "Before  8 7\n",
      "After   6 5\n",
      "Before  6 5\n",
      "After   4 3\n",
      "Before  7 8\n",
      "After   3 5\n",
      "Before  7 5\n",
      "After   4 3\n",
      "Before  9 4\n",
      "After   5 3\n"
     ]
    },
    {
     "name": "stderr",
     "output_type": "stream",
     "text": [
      "\r",
      " 41%|████████████████▌                        | 90/222 [00:01<00:02, 45.28it/s]"
     ]
    },
    {
     "name": "stdout",
     "output_type": "stream",
     "text": [
      "Before  6 3\n",
      "After   3 1\n",
      "Before  9 3\n",
      "After   7 1\n",
      "Before  7 6\n",
      "After   4 4\n",
      "Before  8 5\n",
      "After   6 2\n",
      "Before  6 5\n",
      "After   5 3\n"
     ]
    },
    {
     "name": "stderr",
     "output_type": "stream",
     "text": [
      "\r",
      " 43%|█████████████████▌                       | 95/222 [00:02<00:02, 45.58it/s]"
     ]
    },
    {
     "name": "stdout",
     "output_type": "stream",
     "text": [
      "Before  7 5\n",
      "After   4 2\n",
      "Before  6 5\n",
      "After   3 3\n",
      "Before  6 9\n",
      "After   3 5\n",
      "Before  6 7\n",
      "After   3 4\n",
      "Before  7 8\n",
      "After   4 3\n"
     ]
    },
    {
     "name": "stderr",
     "output_type": "stream",
     "text": [
      "\r",
      " 45%|██████████████████                      | 100/222 [00:02<00:02, 45.54it/s]"
     ]
    },
    {
     "name": "stdout",
     "output_type": "stream",
     "text": [
      "Before  7 6\n",
      "After   4 4\n",
      "Before  8 2\n",
      "After   7 1\n",
      "Before  7 2\n",
      "After   6 2\n",
      "Before  7 4\n",
      "After   5 2\n",
      "Before  7 6\n",
      "After   4 2\n"
     ]
    },
    {
     "name": "stderr",
     "output_type": "stream",
     "text": [
      "\r",
      " 47%|██████████████████▉                     | 105/222 [00:02<00:02, 45.39it/s]"
     ]
    },
    {
     "name": "stdout",
     "output_type": "stream",
     "text": [
      "Before  6 7\n",
      "After   2 4\n",
      "Before  8 5\n",
      "After   5 2\n",
      "Before  8 6\n",
      "After   4 4\n",
      "Before  10 7\n",
      "After   8 4\n",
      "Before  8 9\n",
      "After   5 6\n"
     ]
    },
    {
     "name": "stderr",
     "output_type": "stream",
     "text": [
      "\r",
      " 50%|███████████████████▊                    | 110/222 [00:02<00:02, 45.66it/s]"
     ]
    },
    {
     "name": "stdout",
     "output_type": "stream",
     "text": [
      "Before  11 6\n",
      "After   6 4\n",
      "Before  5 6\n",
      "After   2 4\n",
      "Before  8 5\n",
      "After   7 4\n",
      "Before  5 6\n",
      "After   4 4\n",
      "Before  8 2\n",
      "After   4 1\n"
     ]
    },
    {
     "name": "stderr",
     "output_type": "stream",
     "text": [
      "\r",
      " 52%|████████████████████▋                   | 115/222 [00:02<00:02, 45.10it/s]"
     ]
    },
    {
     "name": "stdout",
     "output_type": "stream",
     "text": [
      "Before  8 3\n",
      "After   6 1\n",
      "Before  7 4\n",
      "After   4 2\n",
      "Before  10 7\n",
      "After   6 4\n",
      "Before  6 6\n",
      "After   3 3\n",
      "Before  10 5\n",
      "After   8 3\n"
     ]
    },
    {
     "name": "stderr",
     "output_type": "stream",
     "text": [
      "\r",
      " 54%|█████████████████████▌                  | 120/222 [00:02<00:02, 45.08it/s]"
     ]
    },
    {
     "name": "stdout",
     "output_type": "stream",
     "text": [
      "Before  8 8\n",
      "After   3 4\n",
      "Before  8 9\n",
      "After   5 4\n",
      "Before  10 9\n",
      "After   6 6\n",
      "Before  5 8\n",
      "After   3 4\n",
      "Before  9 7\n",
      "After   8 4\n"
     ]
    },
    {
     "name": "stderr",
     "output_type": "stream",
     "text": [
      "\r",
      " 56%|██████████████████████▌                 | 125/222 [00:02<00:02, 45.07it/s]"
     ]
    },
    {
     "name": "stdout",
     "output_type": "stream",
     "text": [
      "Before  7 4\n",
      "After   3 2\n",
      "Before  7 4\n",
      "After   5 2\n",
      "Before  5 5\n",
      "After   2 4\n",
      "Before  8 8\n",
      "After   4 6\n",
      "Before  7 6\n",
      "After   4 3\n"
     ]
    },
    {
     "name": "stderr",
     "output_type": "stream",
     "text": [
      "\r",
      " 59%|███████████████████████▍                | 130/222 [00:02<00:02, 45.31it/s]"
     ]
    },
    {
     "name": "stdout",
     "output_type": "stream",
     "text": [
      "Before  5 7\n",
      "After   2 6\n",
      "Before  6 8\n",
      "After   3 6\n",
      "Before  6 8\n",
      "After   2 6\n",
      "Before  7 10\n",
      "After   6 4\n",
      "Before  4 10\n",
      "After   3 7\n"
     ]
    },
    {
     "name": "stderr",
     "output_type": "stream",
     "text": [
      "\r",
      " 61%|████████████████████████▎               | 135/222 [00:02<00:01, 44.38it/s]"
     ]
    },
    {
     "name": "stdout",
     "output_type": "stream",
     "text": [
      "Before  9 7\n",
      "After   7 5\n",
      "Before  8 9\n",
      "After   5 5\n",
      "Before  12 5\n",
      "After   9 3\n",
      "Before  6 3\n",
      "After   4 1\n",
      "Before  10 5\n",
      "After   5 4\n"
     ]
    },
    {
     "name": "stderr",
     "output_type": "stream",
     "text": [
      "\r",
      " 63%|█████████████████████████▏              | 140/222 [00:03<00:01, 44.46it/s]"
     ]
    },
    {
     "name": "stdout",
     "output_type": "stream",
     "text": [
      "Before  9 7\n",
      "After   6 4\n",
      "Before  6 8\n",
      "After   5 5\n",
      "Before  9 7\n",
      "After   6 5\n",
      "Before  8 7\n",
      "After   7 4\n",
      "Before  8 10\n",
      "After   7 5\n"
     ]
    },
    {
     "name": "stderr",
     "output_type": "stream",
     "text": [
      "\r",
      " 65%|██████████████████████████▏             | 145/222 [00:03<00:01, 44.51it/s]"
     ]
    },
    {
     "name": "stdout",
     "output_type": "stream",
     "text": [
      "Before  11 8\n",
      "After   8 4\n",
      "Before  11 11\n",
      "After   6 6\n",
      "Before  9 9\n",
      "After   5 5\n",
      "Before  9 5\n",
      "After   6 2\n",
      "Before  9 5\n",
      "After   7 3\n"
     ]
    },
    {
     "name": "stderr",
     "output_type": "stream",
     "text": [
      "\r",
      " 68%|███████████████████████████             | 150/222 [00:03<00:01, 44.43it/s]"
     ]
    },
    {
     "name": "stdout",
     "output_type": "stream",
     "text": [
      "Before  9 4\n",
      "After   4 1\n",
      "Before  10 4\n",
      "After   6 2\n",
      "Before  9 6\n",
      "After   5 5\n",
      "Before  14 4\n",
      "After   12 2\n",
      "Before  5 7\n",
      "After   3 4\n"
     ]
    },
    {
     "name": "stderr",
     "output_type": "stream",
     "text": [
      "\r",
      " 70%|███████████████████████████▉            | 155/222 [00:03<00:01, 44.50it/s]"
     ]
    },
    {
     "name": "stdout",
     "output_type": "stream",
     "text": [
      "Before  7 7\n",
      "After   5 6\n",
      "Before  9 9\n",
      "After   5 5\n",
      "Before  8 10\n",
      "After   6 8\n",
      "Before  9 8\n",
      "After   6 5\n",
      "Before  7 8\n",
      "After   5 5\n"
     ]
    },
    {
     "name": "stderr",
     "output_type": "stream",
     "text": [
      "\r",
      " 72%|████████████████████████████▊           | 160/222 [00:03<00:01, 44.78it/s]"
     ]
    },
    {
     "name": "stdout",
     "output_type": "stream",
     "text": [
      "Before  11 6\n",
      "After   5 4\n",
      "Before  8 4\n",
      "After   4 2\n",
      "Before  9 5\n",
      "After   5 4\n",
      "Before  9 4\n",
      "After   6 2\n",
      "Before  6 6\n",
      "After   3 4\n"
     ]
    },
    {
     "name": "stderr",
     "output_type": "stream",
     "text": [
      "\r",
      " 74%|█████████████████████████████▋          | 165/222 [00:03<00:01, 44.26it/s]"
     ]
    },
    {
     "name": "stdout",
     "output_type": "stream",
     "text": [
      "Before  6 7\n",
      "After   3 4\n",
      "Before  6 10\n",
      "After   2 6\n",
      "Before  10 10\n",
      "After   7 7\n",
      "Before  4 9\n",
      "After   2 5\n",
      "Before  6 8\n",
      "After   3 7\n"
     ]
    },
    {
     "name": "stderr",
     "output_type": "stream",
     "text": [
      "\r",
      " 77%|██████████████████████████████▋         | 170/222 [00:03<00:01, 44.49it/s]"
     ]
    },
    {
     "name": "stdout",
     "output_type": "stream",
     "text": [
      "Before  11 9\n",
      "After   8 6\n",
      "Before  7 8\n",
      "After   4 5\n",
      "Before  6 6\n",
      "After   4 4\n",
      "Before  8 5\n",
      "After   7 4\n",
      "Before  11 4\n",
      "After   8 3\n"
     ]
    },
    {
     "name": "stderr",
     "output_type": "stream",
     "text": [
      "\r",
      " 79%|███████████████████████████████▌        | 175/222 [00:03<00:01, 44.66it/s]"
     ]
    },
    {
     "name": "stdout",
     "output_type": "stream",
     "text": [
      "Before  8 4\n",
      "After   4 2\n",
      "Before  9 6\n",
      "After   5 4\n",
      "Before  10 7\n",
      "After   6 5\n",
      "Before  7 8\n",
      "After   4 5\n",
      "Before  7 8\n",
      "After   5 6\n"
     ]
    },
    {
     "name": "stderr",
     "output_type": "stream",
     "text": [
      "\r",
      " 81%|████████████████████████████████▍       | 180/222 [00:03<00:00, 44.53it/s]"
     ]
    },
    {
     "name": "stdout",
     "output_type": "stream",
     "text": [
      "Before  8 7\n",
      "After   5 4\n",
      "Before  10 7\n",
      "After   7 3\n",
      "Before  9 7\n",
      "After   6 5\n",
      "Before  12 7\n",
      "After   9 3\n",
      "Before  9 7\n",
      "After   5 4\n"
     ]
    },
    {
     "name": "stderr",
     "output_type": "stream",
     "text": [
      "\r",
      " 83%|█████████████████████████████████▎      | 185/222 [00:04<00:00, 44.45it/s]"
     ]
    },
    {
     "name": "stdout",
     "output_type": "stream",
     "text": [
      "Before  11 4\n",
      "After   6 2\n",
      "Before  7 5\n",
      "After   4 4\n",
      "Before  6 3\n",
      "After   4 2\n",
      "Before  6 2\n",
      "After   4 1\n",
      "Before  7 4\n",
      "After   4 3\n"
     ]
    },
    {
     "name": "stderr",
     "output_type": "stream",
     "text": [
      "\r",
      " 86%|██████████████████████████████████▏     | 190/222 [00:04<00:00, 45.11it/s]"
     ]
    },
    {
     "name": "stdout",
     "output_type": "stream",
     "text": [
      "Before  10 7\n",
      "After   7 5\n",
      "Before  9 7\n",
      "After   6 5\n",
      "Before  11 7\n",
      "After   6 4\n",
      "Before  7 6\n",
      "After   4 4\n",
      "Before  6 10\n",
      "After   4 7\n"
     ]
    },
    {
     "name": "stderr",
     "output_type": "stream",
     "text": [
      "\r",
      " 88%|███████████████████████████████████▏    | 195/222 [00:04<00:00, 44.72it/s]"
     ]
    },
    {
     "name": "stdout",
     "output_type": "stream",
     "text": [
      "Before  9 7\n",
      "After   6 3\n",
      "Before  9 7\n",
      "After   7 4\n",
      "Before  8 6\n",
      "After   6 3\n",
      "Before  12 4\n",
      "After   9 2\n",
      "Before  11 4\n",
      "After   5 2\n"
     ]
    },
    {
     "name": "stderr",
     "output_type": "stream",
     "text": [
      "\r",
      " 90%|████████████████████████████████████    | 200/222 [00:04<00:00, 44.94it/s]"
     ]
    },
    {
     "name": "stdout",
     "output_type": "stream",
     "text": [
      "Before  9 4\n",
      "After   6 2\n",
      "Before  9 7\n",
      "After   6 4\n",
      "Before  11 4\n",
      "After   10 2\n",
      "Before  11 9\n",
      "After   7 7\n",
      "Before  6 9\n",
      "After   3 5\n"
     ]
    },
    {
     "name": "stderr",
     "output_type": "stream",
     "text": [
      "\r",
      " 92%|████████████████████████████████████▉   | 205/222 [00:04<00:00, 44.49it/s]"
     ]
    },
    {
     "name": "stdout",
     "output_type": "stream",
     "text": [
      "Before  7 7\n",
      "After   4 5\n",
      "Before  9 7\n",
      "After   6 4\n",
      "Before  6 9\n",
      "After   2 6\n",
      "Before  6 9\n",
      "After   3 6\n",
      "Before  5 4\n",
      "After   4 3\n"
     ]
    },
    {
     "name": "stderr",
     "output_type": "stream",
     "text": [
      "\r",
      " 95%|█████████████████████████████████████▊  | 210/222 [00:04<00:00, 43.15it/s]"
     ]
    },
    {
     "name": "stdout",
     "output_type": "stream",
     "text": [
      "Before  5 6\n",
      "After   2 4\n",
      "Before  5 7\n",
      "After   3 5\n",
      "Before  7 5\n",
      "After   3 3\n",
      "Before  4 5\n",
      "After   2 2\n",
      "Before  5 7\n",
      "After   2 3\n"
     ]
    },
    {
     "name": "stderr",
     "output_type": "stream",
     "text": [
      "\r",
      " 97%|██████████████████████████████████████▋ | 215/222 [00:04<00:00, 43.03it/s]"
     ]
    },
    {
     "name": "stdout",
     "output_type": "stream",
     "text": [
      "Before  7 11\n",
      "After   4 6\n",
      "Before  5 8\n",
      "After   2 4\n",
      "Before  10 8\n",
      "After   6 5\n",
      "Before  8 8\n",
      "After   7 5\n",
      "Before  8 9\n",
      "After   5 5\n"
     ]
    },
    {
     "name": "stderr",
     "output_type": "stream",
     "text": [
      "\r",
      " 99%|███████████████████████████████████████▋| 220/222 [00:04<00:00, 43.16it/s]"
     ]
    },
    {
     "name": "stdout",
     "output_type": "stream",
     "text": [
      "Before  8 8\n",
      "After   4 6\n"
     ]
    },
    {
     "name": "stderr",
     "output_type": "stream",
     "text": [
      "100%|███████████████████████████████████████▊| 221/222 [00:04<00:00, 45.43it/s]\n"
     ]
    },
    {
     "name": "stdout",
     "output_type": "stream",
     "text": [
      "[MoviePy] Done.\n",
      "[MoviePy] >>>> Video ready: test_videos_output/solidWhiteRight.mp4 \n",
      "\n",
      "Wall time: 5.21 s\n"
     ]
    }
   ],
   "source": [
    "white_output = 'test_videos_output/solidWhiteRight.mp4'\n",
    "## To speed up the testing process you may want to try your pipeline on a shorter subclip of the video\n",
    "## To do so add .subclip(start_second,end_second) to the end of the line below\n",
    "## Where start_second and end_second are integer values representing the start and end of the subclip\n",
    "## You may also uncomment the following line for a subclip of the first 5 seconds\n",
    "##clip1 = VideoFileClip(\"test_videos/solidWhiteRight.mp4\").subclip(0,5)\n",
    "clip1 = VideoFileClip(\"test_videos/solidWhiteRight.mp4\")\n",
    "white_clip = clip1.fl_image(process_image) #NOTE: this function expects color images!!\n",
    "%time white_clip.write_videofile(white_output, audio=False)"
   ]
  },
  {
   "cell_type": "markdown",
   "metadata": {},
   "source": [
    "Play the video inline, or if you prefer find the video in your filesystem (should be in the same directory) and play it in your video player of choice."
   ]
  },
  {
   "cell_type": "code",
   "execution_count": 6,
   "metadata": {},
   "outputs": [
    {
     "data": {
      "text/html": [
       "\n",
       "<video width=\"960\" height=\"540\" controls>\n",
       "  <source src=\"test_videos_output/solidWhiteRight.mp4\">\n",
       "</video>\n"
      ],
      "text/plain": [
       "<IPython.core.display.HTML object>"
      ]
     },
     "execution_count": 6,
     "metadata": {},
     "output_type": "execute_result"
    }
   ],
   "source": [
    "HTML(\"\"\"\n",
    "<video width=\"960\" height=\"540\" controls>\n",
    "  <source src=\"{0}\">\n",
    "</video>\n",
    "\"\"\".format(white_output))"
   ]
  },
  {
   "cell_type": "markdown",
   "metadata": {},
   "source": [
    "## Improve the draw_lines() function\n",
    "\n",
    "**At this point, if you were successful with making the pipeline and tuning parameters, you probably have the Hough line segments drawn onto the road, but what about identifying the full extent of the lane and marking it clearly as in the example video (P1_example.mp4)?  Think about defining a line to run the full length of the visible lane based on the line segments you identified with the Hough Transform. As mentioned previously, try to average and/or extrapolate the line segments you've detected to map out the full extent of the lane lines. You can see an example of the result you're going for in the video \"P1_example.mp4\".**\n",
    "\n",
    "**Go back and modify your draw_lines function accordingly and try re-running your pipeline. The new output should draw a single, solid line over the left lane line and a single, solid line over the right lane line. The lines should start from the bottom of the image and extend out to the top of the region of interest.**"
   ]
  },
  {
   "cell_type": "markdown",
   "metadata": {},
   "source": [
    "Now for the one with the solid yellow lane on the left. This one's more tricky!"
   ]
  },
  {
   "cell_type": "code",
   "execution_count": 12,
   "metadata": {},
   "outputs": [
    {
     "name": "stdout",
     "output_type": "stream",
     "text": [
      "[MoviePy] >>>> Building video test_videos_output/solidYellowLeft.mp4\n",
      "[MoviePy] Writing video test_videos_output/solidYellowLeft.mp4\n"
     ]
    },
    {
     "name": "stderr",
     "output_type": "stream",
     "text": [
      "100%|███████████████████████████████████████▉| 681/682 [00:08<00:00, 83.00it/s]\n"
     ]
    },
    {
     "name": "stdout",
     "output_type": "stream",
     "text": [
      "[MoviePy] Done.\n",
      "[MoviePy] >>>> Video ready: test_videos_output/solidYellowLeft.mp4 \n",
      "\n",
      "Wall time: 8.55 s\n"
     ]
    }
   ],
   "source": [
    "yellow_output = 'test_videos_output/solidYellowLeft.mp4'\n",
    "## To speed up the testing process you may want to try your pipeline on a shorter subclip of the video\n",
    "## To do so add .subclip(start_second,end_second) to the end of the line below\n",
    "## Where start_second and end_second are integer values representing the start and end of the subclip\n",
    "## You may also uncomment the following line for a subclip of the first 5 seconds\n",
    "##clip2 = VideoFileClip('test_videos/solidYellowLeft.mp4').subclip(0,5)\n",
    "clip2 = VideoFileClip('test_videos/solidYellowLeft.mp4')\n",
    "yellow_clip = clip2.fl_image(process_image)\n",
    "%time yellow_clip.write_videofile(yellow_output, audio=False)"
   ]
  },
  {
   "cell_type": "code",
   "execution_count": 8,
   "metadata": {
    "scrolled": true
   },
   "outputs": [
    {
     "data": {
      "text/html": [
       "\n",
       "<video width=\"960\" height=\"540\" controls>\n",
       "  <source src=\"test_videos_output/solidYellowLeft.mp4\">\n",
       "</video>\n"
      ],
      "text/plain": [
       "<IPython.core.display.HTML object>"
      ]
     },
     "execution_count": 8,
     "metadata": {},
     "output_type": "execute_result"
    }
   ],
   "source": [
    "HTML(\"\"\"\n",
    "<video width=\"960\" height=\"540\" controls>\n",
    "  <source src=\"{0}\">\n",
    "</video>\n",
    "\"\"\".format(yellow_output))"
   ]
  },
  {
   "cell_type": "markdown",
   "metadata": {},
   "source": [
    "## Writeup and Submission\n",
    "\n",
    "If you're satisfied with your video outputs, it's time to make the report writeup in a pdf or markdown file. Once you have this Ipython notebook ready along with the writeup, it's time to submit for review! Here is a [link](https://github.com/udacity/CarND-LaneLines-P1/blob/master/writeup_template.md) to the writeup template file.\n"
   ]
  },
  {
   "cell_type": "markdown",
   "metadata": {
    "collapsed": true
   },
   "source": [
    "## Optional Challenge\n",
    "\n",
    "Try your lane finding pipeline on the video below.  Does it still work?  Can you figure out a way to make it more robust?  If you're up for the challenge, modify your pipeline so it works with this video and submit it along with the rest of your project!"
   ]
  },
  {
   "cell_type": "code",
   "execution_count": 7,
   "metadata": {},
   "outputs": [
    {
     "name": "stdout",
     "output_type": "stream",
     "text": [
      "[MoviePy] >>>> Building video test_videos_output/challenge.mp4\n",
      "[MoviePy] Writing video test_videos_output/challenge.mp4\n"
     ]
    },
    {
     "name": "stderr",
     "output_type": "stream",
     "text": [
      "100%|████████████████████████████████████████| 251/251 [00:08<00:00, 31.26it/s]\n"
     ]
    },
    {
     "name": "stdout",
     "output_type": "stream",
     "text": [
      "[MoviePy] Done.\n",
      "[MoviePy] >>>> Video ready: test_videos_output/challenge.mp4 \n",
      "\n",
      "Wall time: 8.93 s\n"
     ]
    }
   ],
   "source": [
    "im_y = 720              # height of image\n",
    "im_x = 1280              # width of image\n",
    "mask_y  = int(0.6*im_y) # upper y-coordinate of fillPoly trapezoidal mask region\n",
    "mask_x1 = int(0.48*im_x)# upper left x-coordinate of fillPoly trapezoidal mask region \n",
    "mask_x2 = int(0.54*im_x)# upper right x-coordinate of fillPoly trapezoidal mask region \n",
    "\n",
    "challenge_output = 'test_videos_output/challenge.mp4'\n",
    "## To speed up the testing process you may want to try your pipeline on a shorter subclip of the video\n",
    "## To do so add .subclip(start_second,end_second) to the end of the line below\n",
    "## Where start_second and end_second are integer values representing the start and end of the subclip\n",
    "## You may also uncomment the following line for a subclip of the first 5 seconds\n",
    "##clip3 = VideoFileClip('test_videos/challenge.mp4').subclip(0,5)\n",
    "clip3 = VideoFileClip('test_videos/challenge.mp4')\n",
    "challenge_clip = clip3.fl_image(process_image)\n",
    "%time challenge_clip.write_videofile(challenge_output, audio=False)"
   ]
  },
  {
   "cell_type": "code",
   "execution_count": 8,
   "metadata": {},
   "outputs": [
    {
     "data": {
      "text/html": [
       "\n",
       "<video width=\"960\" height=\"540\" controls>\n",
       "  <source src=\"test_videos_output/challenge.mp4\">\n",
       "</video>\n"
      ],
      "text/plain": [
       "<IPython.core.display.HTML object>"
      ]
     },
     "execution_count": 8,
     "metadata": {},
     "output_type": "execute_result"
    }
   ],
   "source": [
    "HTML(\"\"\"\n",
    "<video width=\"960\" height=\"540\" controls>\n",
    "  <source src=\"{0}\">\n",
    "</video>\n",
    "\"\"\".format(challenge_output))"
   ]
  },
  {
   "cell_type": "code",
   "execution_count": null,
   "metadata": {
    "collapsed": true
   },
   "outputs": [],
   "source": []
  }
 ],
 "metadata": {
  "anaconda-cloud": {},
  "kernelspec": {
   "display_name": "Python 3",
   "language": "python",
   "name": "python3"
  },
  "language_info": {
   "codemirror_mode": {
    "name": "ipython",
    "version": 3
   },
   "file_extension": ".py",
   "mimetype": "text/x-python",
   "name": "python",
   "nbconvert_exporter": "python",
   "pygments_lexer": "ipython3",
   "version": "3.5.2"
  }
 },
 "nbformat": 4,
 "nbformat_minor": 1
}
